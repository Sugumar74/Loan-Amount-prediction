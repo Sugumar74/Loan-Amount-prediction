{
  "nbformat": 4,
  "nbformat_minor": 0,
  "metadata": {
    "colab": {
      "provenance": []
    },
    "kernelspec": {
      "name": "python3",
      "display_name": "Python 3"
    },
    "language_info": {
      "name": "python"
    }
  },
  "cells": [
    {
      "cell_type": "code",
      "execution_count": 5,
      "metadata": {
        "id": "XwlHUxKrmR5L"
      },
      "outputs": [],
      "source": [
        "import pandas as pd\n",
        "import numpy as np\n",
        "from sklearn.preprocessing import LabelEncoder\n",
        "from sklearn.linear_model import LinearRegression\n",
        "from sklearn.metrics import mean_squared_error\n",
        "import matplotlib.pyplot as plt"
      ]
    },
    {
      "cell_type": "code",
      "source": [
        "train_df = pd.read_csv('/content/train_u6lujuX_CVtuZ9i.csv')\n",
        "test_df = pd.read_csv('/content/test_Y3wMUE5_7gLdaTN.csv')"
      ],
      "metadata": {
        "id": "TjhrhEINmea-"
      },
      "execution_count": 6,
      "outputs": []
    },
    {
      "cell_type": "code",
      "source": [
        "train_df .drop(columns=['Loan_ID','Loan_Status'], inplace=True)\n",
        "test_df .drop(columns=['Loan_ID'], inplace=True)"
      ],
      "metadata": {
        "id": "5Qlme0gzmo8j"
      },
      "execution_count": 7,
      "outputs": []
    },
    {
      "cell_type": "code",
      "source": [
        "train_df['Gender'].fillna(value='Male', inplace=True)\n",
        "train_df['Married'].fillna(value='Yes', inplace=True)\n",
        "train_df['Dependents'].fillna(value='0', inplace=True)\n",
        "train_df['Self_Employed'].fillna(value='No', inplace=True)\n",
        "train_df['LoanAmount'].fillna(value=train_df['LoanAmount'].median(), inplace=True)\n",
        "train_df['Loan_Amount_Term'].fillna(value=train_df['Loan_Amount_Term'].median(), inplace=True)\n",
        "train_df['Credit_History'].fillna(value=1.0, inplace=True)"
      ],
      "metadata": {
        "id": "IyIVb-rkmuv3"
      },
      "execution_count": 8,
      "outputs": []
    },
    {
      "cell_type": "code",
      "source": [
        "test_df['Gender'].fillna(value='Male', inplace=True)\n",
        "test_df['Married'].fillna(value='Yes', inplace=True)\n",
        "test_df['Dependents'].fillna(value='0', inplace=True)\n",
        "test_df['Self_Employed'].fillna(value='No', inplace=True)\n",
        "test_df['LoanAmount'].fillna(value=test_df['LoanAmount'].median(), inplace=True)\n",
        "test_df['Loan_Amount_Term'].fillna(value=test_df['Loan_Amount_Term'].median(), inplace=True)\n",
        "test_df['Credit_History'].fillna(value=1.0, inplace=True)"
      ],
      "metadata": {
        "id": "WCGSCM1FnxPm"
      },
      "execution_count": 9,
      "outputs": []
    },
    {
      "cell_type": "code",
      "source": [
        "le = LabelEncoder()\n",
        "test_df['Married'] = le.fit_transform(test_df['Married'])\n",
        "test_df['Gender'] = le.fit_transform(test_df['Gender'])\n",
        "test_df['Education'] = le.fit_transform(test_df['Education'])\n",
        "test_df['Property_Area'] = le.fit_transform(test_df['Property_Area'])\n",
        "test_df['Self_Employed'] = le.fit_transform(test_df['Self_Employed'])"
      ],
      "metadata": {
        "id": "8zqMkkElnMaK"
      },
      "execution_count": 10,
      "outputs": []
    },
    {
      "cell_type": "code",
      "source": [
        "train_df['Married'] = le.fit_transform(train_df['Married'])\n",
        "train_df['Gender'] = le.fit_transform(train_df['Gender'])\n",
        "train_df['Education'] = le.fit_transform(train_df['Education'])\n",
        "train_df['Property_Area'] = le.fit_transform(train_df['Property_Area'])\n",
        "train_df['Self_Employed'] = le.fit_transform(train_df['Self_Employed'])"
      ],
      "metadata": {
        "id": "WBhutI-5nzJJ"
      },
      "execution_count": 11,
      "outputs": []
    },
    {
      "cell_type": "code",
      "source": [
        "def convert_range(value):\n",
        "    lower_bound = float(value.replace(\"+\", \"\"))\n",
        "    upper_bound = 1000 \n",
        "    return lower_bound"
      ],
      "metadata": {
        "id": "A_cpE_arnSha"
      },
      "execution_count": 12,
      "outputs": []
    },
    {
      "cell_type": "code",
      "source": [
        "test_df['Dependents'] = test_df['Dependents'].apply(convert_range)\n",
        "train_df['Dependents'] = train_df['Dependents'].apply(convert_range)"
      ],
      "metadata": {
        "id": "5TkjCANJniuR"
      },
      "execution_count": 13,
      "outputs": []
    },
    {
      "cell_type": "code",
      "source": [
        "X_train = train_df.drop(columns=['LoanAmount'])\n",
        "y_train = train_df['LoanAmount']\n",
        "X_test = test_df.drop(columns=['LoanAmount'])\n",
        "y_test = test_df['LoanAmount']"
      ],
      "metadata": {
        "id": "McdCDb1en3ot"
      },
      "execution_count": 14,
      "outputs": []
    },
    {
      "cell_type": "code",
      "source": [
        "model = LinearRegression()"
      ],
      "metadata": {
        "id": "qgPjH4lYoCG2"
      },
      "execution_count": 15,
      "outputs": []
    },
    {
      "cell_type": "code",
      "source": [
        "model.fit(X_train, y_train)"
      ],
      "metadata": {
        "id": "H0ecjC63oGzZ",
        "colab": {
          "base_uri": "https://localhost:8080/",
          "height": 74
        },
        "outputId": "e1c8ce10-5acb-4e56-9e1a-62c912978249"
      },
      "execution_count": 16,
      "outputs": [
        {
          "output_type": "execute_result",
          "data": {
            "text/plain": [
              "LinearRegression()"
            ],
            "text/html": [
              "<style>#sk-container-id-1 {color: black;background-color: white;}#sk-container-id-1 pre{padding: 0;}#sk-container-id-1 div.sk-toggleable {background-color: white;}#sk-container-id-1 label.sk-toggleable__label {cursor: pointer;display: block;width: 100%;margin-bottom: 0;padding: 0.3em;box-sizing: border-box;text-align: center;}#sk-container-id-1 label.sk-toggleable__label-arrow:before {content: \"▸\";float: left;margin-right: 0.25em;color: #696969;}#sk-container-id-1 label.sk-toggleable__label-arrow:hover:before {color: black;}#sk-container-id-1 div.sk-estimator:hover label.sk-toggleable__label-arrow:before {color: black;}#sk-container-id-1 div.sk-toggleable__content {max-height: 0;max-width: 0;overflow: hidden;text-align: left;background-color: #f0f8ff;}#sk-container-id-1 div.sk-toggleable__content pre {margin: 0.2em;color: black;border-radius: 0.25em;background-color: #f0f8ff;}#sk-container-id-1 input.sk-toggleable__control:checked~div.sk-toggleable__content {max-height: 200px;max-width: 100%;overflow: auto;}#sk-container-id-1 input.sk-toggleable__control:checked~label.sk-toggleable__label-arrow:before {content: \"▾\";}#sk-container-id-1 div.sk-estimator input.sk-toggleable__control:checked~label.sk-toggleable__label {background-color: #d4ebff;}#sk-container-id-1 div.sk-label input.sk-toggleable__control:checked~label.sk-toggleable__label {background-color: #d4ebff;}#sk-container-id-1 input.sk-hidden--visually {border: 0;clip: rect(1px 1px 1px 1px);clip: rect(1px, 1px, 1px, 1px);height: 1px;margin: -1px;overflow: hidden;padding: 0;position: absolute;width: 1px;}#sk-container-id-1 div.sk-estimator {font-family: monospace;background-color: #f0f8ff;border: 1px dotted black;border-radius: 0.25em;box-sizing: border-box;margin-bottom: 0.5em;}#sk-container-id-1 div.sk-estimator:hover {background-color: #d4ebff;}#sk-container-id-1 div.sk-parallel-item::after {content: \"\";width: 100%;border-bottom: 1px solid gray;flex-grow: 1;}#sk-container-id-1 div.sk-label:hover label.sk-toggleable__label {background-color: #d4ebff;}#sk-container-id-1 div.sk-serial::before {content: \"\";position: absolute;border-left: 1px solid gray;box-sizing: border-box;top: 0;bottom: 0;left: 50%;z-index: 0;}#sk-container-id-1 div.sk-serial {display: flex;flex-direction: column;align-items: center;background-color: white;padding-right: 0.2em;padding-left: 0.2em;position: relative;}#sk-container-id-1 div.sk-item {position: relative;z-index: 1;}#sk-container-id-1 div.sk-parallel {display: flex;align-items: stretch;justify-content: center;background-color: white;position: relative;}#sk-container-id-1 div.sk-item::before, #sk-container-id-1 div.sk-parallel-item::before {content: \"\";position: absolute;border-left: 1px solid gray;box-sizing: border-box;top: 0;bottom: 0;left: 50%;z-index: -1;}#sk-container-id-1 div.sk-parallel-item {display: flex;flex-direction: column;z-index: 1;position: relative;background-color: white;}#sk-container-id-1 div.sk-parallel-item:first-child::after {align-self: flex-end;width: 50%;}#sk-container-id-1 div.sk-parallel-item:last-child::after {align-self: flex-start;width: 50%;}#sk-container-id-1 div.sk-parallel-item:only-child::after {width: 0;}#sk-container-id-1 div.sk-dashed-wrapped {border: 1px dashed gray;margin: 0 0.4em 0.5em 0.4em;box-sizing: border-box;padding-bottom: 0.4em;background-color: white;}#sk-container-id-1 div.sk-label label {font-family: monospace;font-weight: bold;display: inline-block;line-height: 1.2em;}#sk-container-id-1 div.sk-label-container {text-align: center;}#sk-container-id-1 div.sk-container {/* jupyter's `normalize.less` sets `[hidden] { display: none; }` but bootstrap.min.css set `[hidden] { display: none !important; }` so we also need the `!important` here to be able to override the default hidden behavior on the sphinx rendered scikit-learn.org. See: https://github.com/scikit-learn/scikit-learn/issues/21755 */display: inline-block !important;position: relative;}#sk-container-id-1 div.sk-text-repr-fallback {display: none;}</style><div id=\"sk-container-id-1\" class=\"sk-top-container\"><div class=\"sk-text-repr-fallback\"><pre>LinearRegression()</pre><b>In a Jupyter environment, please rerun this cell to show the HTML representation or trust the notebook. <br />On GitHub, the HTML representation is unable to render, please try loading this page with nbviewer.org.</b></div><div class=\"sk-container\" hidden><div class=\"sk-item\"><div class=\"sk-estimator sk-toggleable\"><input class=\"sk-toggleable__control sk-hidden--visually\" id=\"sk-estimator-id-1\" type=\"checkbox\" checked><label for=\"sk-estimator-id-1\" class=\"sk-toggleable__label sk-toggleable__label-arrow\">LinearRegression</label><div class=\"sk-toggleable__content\"><pre>LinearRegression()</pre></div></div></div></div></div>"
            ]
          },
          "metadata": {},
          "execution_count": 16
        }
      ]
    },
    {
      "cell_type": "code",
      "source": [
        "y_pred = model.predict(X_test)"
      ],
      "metadata": {
        "id": "o1hxwwOgoLDb"
      },
      "execution_count": 17,
      "outputs": []
    },
    {
      "cell_type": "code",
      "source": [
        "mse = mean_squared_error(y_test, y_pred)"
      ],
      "metadata": {
        "id": "wIzcQAEVoOwK"
      },
      "execution_count": 18,
      "outputs": []
    },
    {
      "cell_type": "code",
      "source": [
        "plt.scatter(y_test, y_pred)\n",
        "plt.xlabel('Actual Loan Amount')\n",
        "plt.ylabel('Predicted Loan Amount')\n",
        "plt.show()"
      ],
      "metadata": {
        "colab": {
          "base_uri": "https://localhost:8080/",
          "height": 450
        },
        "id": "8HHOE4F3oUuo",
        "outputId": "2cb05c7f-7ec5-4647-8295-025731690d44"
      },
      "execution_count": 19,
      "outputs": [
        {
          "output_type": "display_data",
          "data": {
            "text/plain": [
              "<Figure size 640x480 with 1 Axes>"
            ],
            "image/png": "[encoded data removed]"
          },
          "metadata": {}
        }
      ]
    },
    {
      "cell_type": "code",
      "source": [
        "print(\"Mean squared error: \", mse)\n",
        "print(\"Coefficients:\", model.coef_)\n",
        "print(\"Intercept:\", model.intercept_)"
      ],
      "metadata": {
        "colab": {
          "base_uri": "https://localhost:8080/"
        },
        "id": "CUuWsTGNoXJP",
        "outputId": "bb10c56d-f2de-4e90-e2df-c2522ecfaafa"
      },
      "execution_count": 20,
      "outputs": [
        {
          "output_type": "stream",
          "name": "stdout",
          "text": [
            "Mean squared error:  2669.5437299479454\n",
            "Coefficients: [ 4.72357880e+00  1.35560571e+01  5.82607743e+00 -1.51793608e+01\n",
            "  1.07332071e+01  7.82347440e-03  7.10953043e-03  1.14354531e-01\n",
            "  9.66818118e-01 -4.32072660e+00]\n",
            "Intercept: 41.27969123222486\n"
          ]
        }
      ]
    },
    {
      "cell_type": "code",
      "source": [
        "r_squared = model.score(X_test, y_test)\n",
        "print(\"R-squared:\", r_squared)"
      ],
      "metadata": {
        "colab": {
          "base_uri": "https://localhost:8080/"
        },
        "id": "sWvA5FKhoe-n",
        "outputId": "9289fc54-1482-49d9-aee2-11c1b8a86baf"
      },
      "execution_count": 21,
      "outputs": [
        {
          "output_type": "stream",
          "name": "stdout",
          "text": [
            "R-squared: 0.27966284186792056\n"
          ]
        }
      ]
    }
  ]
}